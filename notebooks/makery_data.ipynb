{
 "cells": [
  {
   "cell_type": "markdown",
   "id": "78bdd878",
   "metadata": {},
   "source": [
    "<img src=\"https://pbs.twimg.com/profile_images/1092394418135539713/eplLRcDN_400x400.jpg\" width=80px style=\"text-align:right\"><h1>The Internet of Production Alliance </h1>\n",
    "\n",
    "## Data collection program for the [OKW, Map of facilities](https://www.internetofproduction.org/open-know-where)\n"
   ]
  },
  {
   "cell_type": "markdown",
   "id": "f7aabf35",
   "metadata": {},
   "source": [
    "Author: Antonio de Jesus Anaya Hernandez, DevOps eng. for the IoPA.\n",
    "\n",
    "Author: The internet of Production Alliance, 2023.\n",
    "\n",
    "Data was collected by \"Makery, gogocarto, and its partners\", URL location: https://makery.gogocarto.fr/api\n",
    "\n",
    "Data source license: ODBL 1.0, Open Data Commons Open Database License\n",
    "\n",
    "The Open Know Where (OKW) Initiative is part of the Internet of Production Alliance and its members.\n",
    "\n",
    "License: CC BY SA\n",
    "\n",
    "![CC BY SA](https://mirrors.creativecommons.org/presskit/buttons/88x31/svg/by-sa.svg)\n",
    "\n",
    "Description: Python code for downloading, parsing, filtering, sorting data, exporting the RAW makery locations, and the processed IOPA data as CSV."
   ]
  },
  {
   "cell_type": "code",
   "execution_count": 1,
   "id": "76034e9d-0d6b-4965-95ea-7adf72ac6b97",
   "metadata": {},
   "outputs": [],
   "source": [
    "# This line installs the required libraries for running the script, uncomment the line:\n",
    "# !pip install -r requirements.txt"
   ]
  },
  {
   "cell_type": "code",
   "execution_count": 2,
   "id": "cc1ffe8c",
   "metadata": {},
   "outputs": [],
   "source": [
    "import requests\n",
    "import pandas as pd"
   ]
  },
  {
   "cell_type": "code",
   "execution_count": 3,
   "id": "a88800cd-7371-4215-9328-2d9ce573a514",
   "metadata": {
    "tags": []
   },
   "outputs": [],
   "source": [
    "from datetime import datetime\n",
    "now = datetime.now()"
   ]
  },
  {
   "cell_type": "code",
   "execution_count": 4,
   "id": "7242baa4",
   "metadata": {},
   "outputs": [],
   "source": [
    "def req_data(url):\n",
    "    \n",
    "    response = requests.get(url)\n",
    "\n",
    "    print(response.status_code)\n",
    "    \n",
    "    if response.status_code == 200:\n",
    "        return response\n",
    "    else:\n",
    "        print(\"Error response: Check URL or internet avalability, and Try again.\")\n",
    "        print(url)"
   ]
  },
  {
   "cell_type": "code",
   "execution_count": 5,
   "id": "ac16eb49-0917-4002-8e6c-ad24f362a9ea",
   "metadata": {
    "tags": []
   },
   "outputs": [
    {
     "name": "stdout",
     "output_type": "stream",
     "text": [
      "200\n",
      "<class 'dict'>\n"
     ]
    }
   ],
   "source": [
    "url = \"https://makery.gogocarto.fr/api/elements.json\"\n",
    "data = req_data(url).json()\n",
    "print(type(data))"
   ]
  },
  {
   "cell_type": "code",
   "execution_count": 6,
   "id": "ee225e0a-3878-4d93-9df8-01567a612535",
   "metadata": {
    "tags": []
   },
   "outputs": [],
   "source": [
    "data_ = pd.DataFrame(data)"
   ]
  },
  {
   "cell_type": "code",
   "execution_count": 7,
   "id": "cf954f6c-181a-4658-a20b-cc998a66d6e7",
   "metadata": {
    "tags": []
   },
   "outputs": [
    {
     "name": "stdout",
     "output_type": "stream",
     "text": [
      "(528, 1)\n"
     ]
    }
   ],
   "source": [
    "input_d = pd.DataFrame(data_.data)\n",
    "print(input_d.shape)\n",
    "\n",
    "from pandas import json_normalize\n",
    "input_ = pd.json_normalize(input_d['data'])"
   ]
  },
  {
   "cell_type": "code",
   "execution_count": 8,
   "id": "6dd4704e-a70d-4c39-af3d-e3cc24e21de1",
   "metadata": {},
   "outputs": [],
   "source": [
    "input_.reset_index(drop=True, inplace=True)"
   ]
  },
  {
   "cell_type": "code",
   "execution_count": 9,
   "id": "dbcf4a9f-0089-4203-ad22-c41aa17a96c1",
   "metadata": {},
   "outputs": [],
   "source": [
    "input_.to_csv('../data/raw_makery_' + now.strftime(\"%Y_%m_%d_%H%M\") + '.csv')"
   ]
  },
  {
   "cell_type": "code",
   "execution_count": 10,
   "id": "e604212f-1dfa-421f-b7ac-65721efbcd8e",
   "metadata": {
    "tags": []
   },
   "outputs": [
    {
     "data": {
      "text/plain": [
       "['id',\n",
       " 'name',\n",
       " 'sourceKey',\n",
       " 'createdAt',\n",
       " 'updatedAt',\n",
       " 'status',\n",
       " 'categories',\n",
       " 'categoriesFull',\n",
       " 'article_makery',\n",
       " 'fullAddress',\n",
       " 'mode_gestion',\n",
       " 'site_web',\n",
       " 'email',\n",
       " 'subscriberEmails',\n",
       " 'geo.latitude',\n",
       " 'geo.longitude',\n",
       " 'address.customFormatedAddress',\n",
       " 'description_courte',\n",
       " 'surface',\n",
       " 'telephone',\n",
       " 'images',\n",
       " 'openHours.Mo',\n",
       " 'openHours.Tu',\n",
       " 'openHours.We',\n",
       " 'openHours.Th',\n",
       " 'openHours.Fr',\n",
       " 'address.streetNumber',\n",
       " 'address.streetAddress',\n",
       " 'address.addressLocality',\n",
       " 'address.postalCode',\n",
       " 'address.addressCountry',\n",
       " 'affiliation',\n",
       " 'description',\n",
       " 'openHours.Sa',\n",
       " 'openHours.Su']"
      ]
     },
     "execution_count": 10,
     "metadata": {},
     "output_type": "execute_result"
    }
   ],
   "source": [
    "input_.columns.tolist()"
   ]
  },
  {
   "cell_type": "code",
   "execution_count": 11,
   "id": "c402c97d-655e-4919-b027-2f7e3cb8efd7",
   "metadata": {
    "tags": []
   },
   "outputs": [],
   "source": [
    "transform = input_.rename(columns={'id': 'makery_id', 'status': 'makery_status', 'site_web': 'url', 'geo.latitude':'latitude', 'geo.longitude': 'longitude'})"
   ]
  },
  {
   "cell_type": "code",
   "execution_count": 12,
   "id": "b222eb70-0f61-466b-81a6-8ed33fb2aa47",
   "metadata": {
    "tags": []
   },
   "outputs": [],
   "source": [
    "#transform['makery_url'] = 'https://makery.gogocarto.fr/map#/fiche/{name}/{id}/'.format(name=transform.name.replace(' ','-'), id=transform.makery_id)\n",
    "\n",
    "transform['makery_url'] = transform.apply(\n",
    "    lambda row: 'https://makery.gogocarto.fr/map#/fiche/{name}/{id}/'.format(\n",
    "        name=str(row['name']).replace(' ', '-'),\n",
    "        id=row['makery_id']\n",
    "    ),\n",
    "    axis=1\n",
    ")\n",
    "\n"
   ]
  },
  {
   "cell_type": "code",
   "execution_count": 13,
   "id": "32d82316-2d74-41a6-9c52-2a4661bad9d5",
   "metadata": {
    "tags": []
   },
   "outputs": [],
   "source": [
    "transform = transform[transform['makery_status'] != 'closed']"
   ]
  },
  {
   "cell_type": "code",
   "execution_count": 14,
   "id": "019aab8f-647d-4ccb-90c1-95bee5bf3026",
   "metadata": {
    "tags": []
   },
   "outputs": [],
   "source": [
    "transform = transform[transform['makery_status'] != 'planned']"
   ]
  },
  {
   "cell_type": "code",
   "execution_count": 15,
   "id": "b1b1b91b-3023-4cda-820c-4b60362558ec",
   "metadata": {},
   "outputs": [],
   "source": [
    "transform['address_composed'] = transform['address.streetNumber'].astype(str) + ', ' + transform['address.streetAddress'].astype(str) + ', ' + transform['address.addressLocality'].astype(str) + ', ' + transform['address.postalCode'].astype(str) + ', ' + transform['address.addressCountry'].astype(str)"
   ]
  },
  {
   "cell_type": "code",
   "execution_count": 16,
   "id": "3a49c2f1-3e98-4036-9e80-c2e92c1d2164",
   "metadata": {
    "tags": []
   },
   "outputs": [],
   "source": [
    "drops = [\n",
    " 'sourceKey',\n",
    " 'categoriesFull',\n",
    " 'article_makery',\n",
    " 'fullAddress',\n",
    " 'mode_gestion',\n",
    " 'subscriberEmails',\n",
    " 'address.customFormatedAddress',\n",
    " 'description_courte',\n",
    " 'surface',\n",
    " 'telephone',\n",
    " 'images',\n",
    " 'openHours.Mo',\n",
    " 'openHours.Tu',\n",
    " 'openHours.We',\n",
    " 'openHours.Th',\n",
    " 'openHours.Fr',\n",
    " 'address.streetNumber',\n",
    " 'address.streetAddress',\n",
    " 'address.addressLocality',\n",
    " 'address.postalCode',\n",
    " 'address.addressCountry',\n",
    " 'affiliation',\n",
    " 'description',\n",
    " 'openHours.Sa',\n",
    " 'openHours.Su']"
   ]
  },
  {
   "cell_type": "code",
   "execution_count": 17,
   "id": "aecb9086-d08f-46b9-80ac-d98662322bbe",
   "metadata": {},
   "outputs": [],
   "source": [
    "output = transform.drop(columns=drops)"
   ]
  },
  {
   "cell_type": "code",
   "execution_count": 18,
   "id": "6fec34fd-473e-49c6-b2fc-2da6e5e41920",
   "metadata": {
    "tags": []
   },
   "outputs": [
    {
     "data": {
      "text/plain": [
       "['makery_id',\n",
       " 'name',\n",
       " 'createdAt',\n",
       " 'updatedAt',\n",
       " 'makery_status',\n",
       " 'categories',\n",
       " 'url',\n",
       " 'email',\n",
       " 'latitude',\n",
       " 'longitude',\n",
       " 'makery_url',\n",
       " 'address_composed']"
      ]
     },
     "execution_count": 18,
     "metadata": {},
     "output_type": "execute_result"
    }
   ],
   "source": [
    "output.columns.tolist()"
   ]
  },
  {
   "cell_type": "code",
   "execution_count": 19,
   "id": "02b0874b",
   "metadata": {},
   "outputs": [],
   "source": [
    "output.to_csv('../data/iopa_makery_' + now.strftime(\"%Y_%m_%d_%H%M\") + '.csv')"
   ]
  },
  {
   "cell_type": "code",
   "execution_count": 20,
   "id": "62ff110c-4cab-4d94-bfa9-7feb7b878046",
   "metadata": {
    "tags": []
   },
   "outputs": [
    {
     "name": "stdout",
     "output_type": "stream",
     "text": [
      "OKW entries: 528, columns = 12\n"
     ]
    }
   ],
   "source": [
    "print(\"OKW entries: {r[0]}, columns = {r[1]}\".format(r=output.shape))"
   ]
  },
  {
   "cell_type": "code",
   "execution_count": null,
   "id": "2ca11964-c60f-491d-a97f-e237f5536ee9",
   "metadata": {},
   "outputs": [],
   "source": []
  }
 ],
 "metadata": {
  "kernelspec": {
   "display_name": "Python 3 (ipykernel)",
   "language": "python",
   "name": "python3"
  },
  "language_info": {
   "codemirror_mode": {
    "name": "ipython",
    "version": 3
   },
   "file_extension": ".py",
   "mimetype": "text/x-python",
   "name": "python",
   "nbconvert_exporter": "python",
   "pygments_lexer": "ipython3",
   "version": "3.10.13"
  }
 },
 "nbformat": 4,
 "nbformat_minor": 5
}
