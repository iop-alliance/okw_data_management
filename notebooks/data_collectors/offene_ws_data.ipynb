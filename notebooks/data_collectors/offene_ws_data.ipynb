{
 "cells": [
  {
   "cell_type": "markdown",
   "id": "78bdd878",
   "metadata": {},
   "source": [
    "<img src=\"https://avatars.githubusercontent.com/u/61060916?s=400&u=64208a037f5802ee883dfd335df1b7cca3d63e7e&v=4\" width=200><h1>The Internet of Production Alliance </h1>\n",
    "\n",
    "## Data collection program for the [OKW, Map of facilities](https://www.internetofproduction.org/open-know-where)\n"
   ]
  },
  {
   "cell_type": "markdown",
   "id": "f7aabf35",
   "metadata": {},
   "source": [
    "Author: Antonio de Jesus Anaya Hernandez, DevOps eng. for the IoPA.\n",
    "\n",
    "Author: The internet of Production Alliance, 2023.\n",
    "\n",
    "Data was collected by \"Offene Werkstaetten, and its partners\", URL location: https://www.offene-werkstaetten.org/de/werkstatt-suche\n",
    "\n",
    "The Open Know Where (OKW) Initiative is part of the Internet of Production Alliance and its members.\n",
    "\n",
    "License: CC BY SA\n",
    "\n",
    "![CC BY SA](https://mirrors.creativecommons.org/presskit/buttons/88x31/svg/by-sa.svg)\n",
    "\n",
    "Description: Python code for downloading, parsing, filtering, sorting data, exporting the RAW FabLabs, and the processed IOPA data as CSV."
   ]
  },
  {
   "cell_type": "code",
   "execution_count": 1,
   "id": "76034e9d-0d6b-4965-95ea-7adf72ac6b97",
   "metadata": {},
   "outputs": [],
   "source": [
    "# This line installs the required libraries for running the script, uncomment the line:\n",
    "# !pip install -r requirements.txt"
   ]
  },
  {
   "cell_type": "code",
   "execution_count": 2,
   "id": "cc1ffe8c",
   "metadata": {},
   "outputs": [],
   "source": [
    "import requests, json, re, time\n",
    "import pandas as pd"
   ]
  },
  {
   "cell_type": "code",
   "execution_count": 3,
   "id": "a88800cd-7371-4215-9328-2d9ce573a514",
   "metadata": {
    "tags": []
   },
   "outputs": [],
   "source": [
    "from datetime import datetime\n",
    "now = datetime.now()"
   ]
  },
  {
   "cell_type": "code",
   "execution_count": 4,
   "id": "23c6897c-b675-4410-9916-966a25fea463",
   "metadata": {
    "tags": []
   },
   "outputs": [],
   "source": [
    "from bs4 import BeautifulSoup as soup"
   ]
  },
  {
   "cell_type": "code",
   "execution_count": 5,
   "id": "7242baa4",
   "metadata": {},
   "outputs": [],
   "source": [
    "def req_data(url):\n",
    "    \n",
    "    response = requests.get(url)\n",
    "    \n",
    "\n",
    "    #print(response.status_code)\n",
    "    \n",
    "    if response.status_code == 200:\n",
    "        time.sleep(2)\n",
    "        #print(url)\n",
    "        return response\n",
    "    else:\n",
    "        print(\"Error response: Check URL or internet avalability, and Try again.\")\n",
    "        print(url)\n",
    "        return req_data(url)"
   ]
  },
  {
   "cell_type": "code",
   "execution_count": 6,
   "id": "613b892b-137c-448e-a727-404d8de5461a",
   "metadata": {
    "tags": []
   },
   "outputs": [],
   "source": [
    "url = \"https://www.offene-werkstaetten.org/widgets/search?colorA=74ac61&colorB=0489B1&customMarkerSrc=https://cdn0.iconfinder.com/data/icons/map-location-solid-style/91/Map_-_Location_Solid_Style_06-48.png&customClusterSrc=https://cdn4.iconfinder.com/data/icons/ionicons/512/icon-ios7-circle-filled-48.png\"\n",
    "data = [x.text for x in soup(req_data(url).text, 'html.parser').find_all('script') if 'vow.Map' in x.text][-1]"
   ]
  },
  {
   "cell_type": "code",
   "execution_count": 7,
   "id": "7eba0406-4042-4ce0-a4b8-29a4ac15c50d",
   "metadata": {
    "tags": []
   },
   "outputs": [],
   "source": [
    "data_f = '[{\"' + re.findall(r'\\[{\"(.*?)\"\\}\\]\\,', data)[0] + '\"}]'\n",
    "data_json = json.loads(data_f)"
   ]
  },
  {
   "cell_type": "code",
   "execution_count": 8,
   "id": "3c1d27e1",
   "metadata": {},
   "outputs": [],
   "source": [
    "input_ = pd.DataFrame(data_json)"
   ]
  },
  {
   "cell_type": "code",
   "execution_count": 9,
   "id": "6dd4704e-a70d-4c39-af3d-e3cc24e21de1",
   "metadata": {},
   "outputs": [],
   "source": [
    "input_.reset_index(drop=True, inplace=True)"
   ]
  },
  {
   "cell_type": "code",
   "execution_count": 10,
   "id": "dbcf4a9f-0089-4203-ad22-c41aa17a96c1",
   "metadata": {},
   "outputs": [],
   "source": [
    "input_.to_csv('../data/raw_offene_input_' + now.strftime(\"%Y_%m_%d_%H%M\") + '.csv')"
   ]
  },
  {
   "cell_type": "code",
   "execution_count": 11,
   "id": "e96854e4-b292-43d7-afbe-bf7a55eb8f25",
   "metadata": {
    "tags": []
   },
   "outputs": [
    {
     "data": {
      "text/plain": [
       "['name',\n",
       " 'img',\n",
       " 'uid',\n",
       " 'url',\n",
       " 'lat',\n",
       " 'lng',\n",
       " 'street',\n",
       " 'zip',\n",
       " 'city',\n",
       " 'web',\n",
       " 'country',\n",
       " 'cats',\n",
       " 'aai',\n",
       " 'icm',\n",
       " 'street_nr']"
      ]
     },
     "execution_count": 11,
     "metadata": {},
     "output_type": "execute_result"
    }
   ],
   "source": [
    "input_.columns.tolist()"
   ]
  },
  {
   "cell_type": "code",
   "execution_count": 12,
   "id": "c402c97d-655e-4919-b027-2f7e3cb8efd7",
   "metadata": {
    "tags": []
   },
   "outputs": [],
   "source": [
    "transform = input_.rename(columns={'uid': 'offene_id', 'lat': 'latitude', 'lng': 'longitude', 'zip':'postal_code'})"
   ]
  },
  {
   "cell_type": "code",
   "execution_count": 13,
   "id": "b222eb70-0f61-466b-81a6-8ed33fb2aa47",
   "metadata": {
    "tags": []
   },
   "outputs": [],
   "source": [
    "transform['offene_url'] = 'https://www.offene-werkstaetten.org/werkstatt/' + transform.url"
   ]
  },
  {
   "cell_type": "code",
   "execution_count": 14,
   "id": "b1b1b91b-3023-4cda-820c-4b60362558ec",
   "metadata": {},
   "outputs": [],
   "source": [
    "transform['address'] = transform.street.astype(str) + ', ' + transform.street_nr + ', ' + transform.aai"
   ]
  },
  {
   "cell_type": "code",
   "execution_count": 15,
   "id": "d15c41b9-9885-4799-89fc-412557bab314",
   "metadata": {
    "tags": []
   },
   "outputs": [],
   "source": [
    "def decrypt(js):\n",
    "    if js != None:\n",
    "        # print(js)\n",
    "        a_cut = js[17:104].replace('\\\\', '')\n",
    "        c_cut = js[123:181].replace('\\\\', '')\n",
    "                                    \n",
    "        #print(a_cut)\n",
    "        #print(c_cut)\n",
    "        try: \n",
    "            a = re.search(re.compile(r'var a=\"(.*?)\";'), a_cut).group(1)\n",
    "            c = re.search(re.compile(r'var c=\"(.*?)\";'), c_cut).group(1)\n",
    "        except AttributeError:\n",
    "            return None\n",
    "        #print(a)\n",
    "        #print(c)\n",
    "        b = ''.join(sorted(a))\n",
    "        d = ''\n",
    "\n",
    "        for e in c:\n",
    "            d += b[a.index(e)]\n",
    "        #print(d)\n",
    "        return d\n",
    "    else:\n",
    "        print(\"offline?\")\n",
    "        return None\n"
   ]
  },
  {
   "cell_type": "code",
   "execution_count": 16,
   "id": "e4a420ea-5dad-49a6-9197-43d5729149da",
   "metadata": {
    "tags": []
   },
   "outputs": [],
   "source": [
    "transform['contact_email']  = transform.offene_url.apply(lambda x: decrypt(soup(req_data(x).content, 'html.parser').find('span', text=re.compile(r'javascript protected email address')).find_next_sibling('script').text))"
   ]
  },
  {
   "cell_type": "code",
   "execution_count": 17,
   "id": "aecb9086-d08f-46b9-80ac-d98662322bbe",
   "metadata": {},
   "outputs": [],
   "source": [
    "output = transform.drop(columns=['img', 'street', 'street_nr', 'aai', 'cats', 'url', 'icm', 'web'])"
   ]
  },
  {
   "cell_type": "code",
   "execution_count": 18,
   "id": "02b0874b",
   "metadata": {},
   "outputs": [],
   "source": [
    "output.to_csv('../data/iopa_offene_output_' + now.strftime(\"%Y_%m_%d_%H%M\") + '.csv')"
   ]
  },
  {
   "cell_type": "code",
   "execution_count": 19,
   "id": "15e9a7b9-bc38-4916-b0c1-3190475f3194",
   "metadata": {},
   "outputs": [
    {
     "data": {
      "text/plain": [
       "['name',\n",
       " 'offene_id',\n",
       " 'latitude',\n",
       " 'longitude',\n",
       " 'postal_code',\n",
       " 'city',\n",
       " 'country',\n",
       " 'offene_url',\n",
       " 'address',\n",
       " 'contact_email']"
      ]
     },
     "execution_count": 19,
     "metadata": {},
     "output_type": "execute_result"
    }
   ],
   "source": [
    "output.columns.tolist()"
   ]
  },
  {
   "cell_type": "code",
   "execution_count": 20,
   "id": "24ba461c-e87a-4a67-8136-7a3c9ab50040",
   "metadata": {},
   "outputs": [
    {
     "name": "stdout",
     "output_type": "stream",
     "text": [
      "OKW entries: 487, columns = 10\n"
     ]
    }
   ],
   "source": [
    "print(\"OKW entries: {r[0]}, columns = {r[1]}\".format(r=output.shape))"
   ]
  },
  {
   "cell_type": "code",
   "execution_count": null,
   "id": "386d0bda-9eed-444d-8155-825da5af7c71",
   "metadata": {},
   "outputs": [],
   "source": []
  }
 ],
 "metadata": {
  "kernelspec": {
   "display_name": "Python 3 (ipykernel)",
   "language": "python",
   "name": "python3"
  },
  "language_info": {
   "codemirror_mode": {
    "name": "ipython",
    "version": 3
   },
   "file_extension": ".py",
   "mimetype": "text/x-python",
   "name": "python",
   "nbconvert_exporter": "python",
   "pygments_lexer": "ipython3",
   "version": "3.11.7"
  }
 },
 "nbformat": 4,
 "nbformat_minor": 5
}
