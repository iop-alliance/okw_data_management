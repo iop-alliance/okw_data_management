{
 "cells": [
  {
   "cell_type": "markdown",
   "id": "78bdd878",
   "metadata": {},
   "source": [
    "<img src=\"https://avatars.githubusercontent.com/u/61060916?s=400&u=64208a037f5802ee883dfd335df1b7cca3d63e7e&v=4\" width=200><h1>The Internet of Production Alliance </h1>\n",
    "\n",
    "## Data collection program for the [OKW, Map of facilities](https://www.internetofproduction.org/open-know-where)\n"
   ]
  },
  {
   "cell_type": "markdown",
   "id": "f7aabf35",
   "metadata": {},
   "source": [
    "Author: Antonio de Jesus Anaya Hernandez, DevOps eng. for the IoPA.\n",
    "\n",
    "Author: The internet of Production Alliance, 2023.\n",
    "\n",
    "Data was collected by \"The Fab Foundation, FabLab Network and its partners\", URL location: https://api.fablabs.io/0/labs.json\n",
    "\n",
    "The Open Know Where (OKW) Initiative is part of the Internet of Production Alliance and its members.\n",
    "\n",
    "License: CC BY SA\n",
    "\n",
    "![CC BY SA](https://mirrors.creativecommons.org/presskit/buttons/88x31/svg/by-sa.svg)\n",
    "\n",
    "Description: Python code for downloading, parsing, filtering, sorting data, exporting the RAW FabLabs, and the processed IOPA data as CSV."
   ]
  },
  {
   "cell_type": "code",
   "execution_count": 1,
   "id": "76034e9d-0d6b-4965-95ea-7adf72ac6b97",
   "metadata": {},
   "outputs": [],
   "source": [
    "# This line installs the required libraries for running the script, uncomment the line:\n",
    "# !pip install -r requirements.txt"
   ]
  },
  {
   "cell_type": "code",
   "execution_count": 3,
   "id": "cc1ffe8c",
   "metadata": {},
   "outputs": [],
   "source": [
    "import requests\n",
    "import pandas as pd"
   ]
  },
  {
   "cell_type": "code",
   "execution_count": 4,
   "id": "a88800cd-7371-4215-9328-2d9ce573a514",
   "metadata": {
    "tags": []
   },
   "outputs": [],
   "source": [
    "from datetime import datetime\n",
    "now = datetime.now()"
   ]
  },
  {
   "cell_type": "code",
   "execution_count": 5,
   "id": "7242baa4",
   "metadata": {},
   "outputs": [],
   "source": [
    "def req_data(url):\n",
    "    \n",
    "    response = requests.get(url)\n",
    "\n",
    "    print(response.status_code)\n",
    "    \n",
    "    if response.status_code == 200:\n",
    "        return response\n",
    "    else:\n",
    "        print(\"Error response: Check URL or internet avalability, and Try again.\")\n",
    "        print(url)"
   ]
  },
  {
   "cell_type": "code",
   "execution_count": 6,
   "id": "ac16eb49-0917-4002-8e6c-ad24f362a9ea",
   "metadata": {
    "tags": []
   },
   "outputs": [
    {
     "name": "stdout",
     "output_type": "stream",
     "text": [
      "200\n"
     ]
    }
   ],
   "source": [
    "url = \"https://api.fablabs.io/0/labs.json\"\n",
    "data = req_data(url).json()"
   ]
  },
  {
   "cell_type": "code",
   "execution_count": 7,
   "id": "3c1d27e1",
   "metadata": {},
   "outputs": [],
   "source": [
    "input_ = pd.DataFrame(data)"
   ]
  },
  {
   "cell_type": "code",
   "execution_count": 8,
   "id": "6dd4704e-a70d-4c39-af3d-e3cc24e21de1",
   "metadata": {},
   "outputs": [],
   "source": [
    "input_.reset_index(drop=True, inplace=True)"
   ]
  },
  {
   "cell_type": "markdown",
   "id": "23fe50bc-2184-49ab-af93-e69136fca5e6",
   "metadata": {},
   "source": [
    "# "
   ]
  },
  {
   "cell_type": "code",
   "execution_count": 10,
   "id": "dbcf4a9f-0089-4203-ad22-c41aa17a96c1",
   "metadata": {},
   "outputs": [],
   "source": [
    "input_.to_csv('../data/raw_fablabsio_' + now.strftime(\"%Y_%m_%d_%H%M\") + '.csv')"
   ]
  },
  {
   "cell_type": "code",
   "execution_count": 11,
   "id": "5e321a33-4a37-4742-8100-67f218a072d8",
   "metadata": {},
   "outputs": [
    {
     "data": {
      "text/plain": [
       "['id',\n",
       " 'name',\n",
       " 'kind_name',\n",
       " 'parent_id',\n",
       " 'blurb',\n",
       " 'description',\n",
       " 'slug',\n",
       " 'avatar_url',\n",
       " 'header_url',\n",
       " 'address_1',\n",
       " 'address_2',\n",
       " 'city',\n",
       " 'county',\n",
       " 'postal_code',\n",
       " 'country_code',\n",
       " 'latitude',\n",
       " 'longitude',\n",
       " 'address_notes',\n",
       " 'phone',\n",
       " 'email',\n",
       " 'capabilities',\n",
       " 'activity_status',\n",
       " 'links']"
      ]
     },
     "execution_count": 11,
     "metadata": {},
     "output_type": "execute_result"
    }
   ],
   "source": [
    "input_.columns.tolist()"
   ]
  },
  {
   "cell_type": "code",
   "execution_count": 39,
   "id": "c402c97d-655e-4919-b027-2f7e3cb8efd7",
   "metadata": {
    "tags": []
   },
   "outputs": [],
   "source": [
    "transform = input_.rename(columns={'id': 'fablabs_id', 'kind_name': 'fablabs_kind_name', 'activity_status': 'fablabs_activity_status'})"
   ]
  },
  {
   "cell_type": "code",
   "execution_count": 40,
   "id": "b222eb70-0f61-466b-81a6-8ed33fb2aa47",
   "metadata": {
    "tags": []
   },
   "outputs": [],
   "source": [
    "transform['fablabs_url'] = 'https://www.fablabs.io/labs/' + transform.slug"
   ]
  },
  {
   "cell_type": "code",
   "execution_count": 41,
   "id": "32d82316-2d74-41a6-9c52-2a4661bad9d5",
   "metadata": {
    "tags": []
   },
   "outputs": [],
   "source": [
    "transform = transform[transform['fablabs_activity_status'] != 'closed']"
   ]
  },
  {
   "cell_type": "code",
   "execution_count": 42,
   "id": "019aab8f-647d-4ccb-90c1-95bee5bf3026",
   "metadata": {
    "tags": []
   },
   "outputs": [],
   "source": [
    "transform = transform[transform['fablabs_activity_status'] != 'planned']"
   ]
  },
  {
   "cell_type": "code",
   "execution_count": 44,
   "id": "b1b1b91b-3023-4cda-820c-4b60362558ec",
   "metadata": {},
   "outputs": [],
   "source": [
    "transform['address'] = transform.address_1.astype(str) + ', ' + transform.address_2 + ', ' + transform.county"
   ]
  },
  {
   "cell_type": "code",
   "execution_count": 45,
   "id": "aecb9086-d08f-46b9-80ac-d98662322bbe",
   "metadata": {},
   "outputs": [],
   "source": [
    "output = transform.drop(columns=['slug', 'address_1', 'address_2', 'county', 'address_notes', 'parent_id', 'blurb', 'avatar_url', 'header_url', 'capabilities', 'links'])"
   ]
  },
  {
   "cell_type": "code",
   "execution_count": 46,
   "id": "6fec34fd-473e-49c6-b2fc-2da6e5e41920",
   "metadata": {
    "tags": []
   },
   "outputs": [
    {
     "data": {
      "text/plain": [
       "['fablabs_id',\n",
       " 'name',\n",
       " 'fablabs_kind_name',\n",
       " 'description',\n",
       " 'city',\n",
       " 'postal_code',\n",
       " 'country_code',\n",
       " 'latitude',\n",
       " 'longitude',\n",
       " 'phone',\n",
       " 'email',\n",
       " 'fablabs_activity_status',\n",
       " 'fablabs_url',\n",
       " 'address']"
      ]
     },
     "execution_count": 46,
     "metadata": {},
     "output_type": "execute_result"
    }
   ],
   "source": [
    "output.columns.tolist()"
   ]
  },
  {
   "cell_type": "code",
   "execution_count": 47,
   "id": "02b0874b",
   "metadata": {},
   "outputs": [],
   "source": [
    "output.to_csv('../data/iopa_fablabsio_' + now.strftime(\"%Y_%m_%d_%H%M\") + '.csv')"
   ]
  },
  {
   "cell_type": "code",
   "execution_count": 48,
   "id": "62ff110c-4cab-4d94-bfa9-7feb7b878046",
   "metadata": {
    "tags": []
   },
   "outputs": [
    {
     "name": "stdout",
     "output_type": "stream",
     "text": [
      "OKW entries: 1944, columns = 14\n"
     ]
    }
   ],
   "source": [
    "print(\"OKW entries: {r[0]}, columns = {r[1]}\".format(r=output.shape))"
   ]
  },
  {
   "cell_type": "code",
   "execution_count": null,
   "id": "52cd7d95-456e-4d2d-a3d9-8ebf0a57d753",
   "metadata": {},
   "outputs": [],
   "source": []
  }
 ],
 "metadata": {
  "kernelspec": {
   "display_name": "okw_data_intel",
   "language": "python",
   "name": "okw_data_intel"
  },
  "language_info": {
   "codemirror_mode": {
    "name": "ipython",
    "version": 3
   },
   "file_extension": ".py",
   "mimetype": "text/x-python",
   "name": "python",
   "nbconvert_exporter": "python",
   "pygments_lexer": "ipython3",
   "version": "3.10.13"
  }
 },
 "nbformat": 4,
 "nbformat_minor": 5
}
