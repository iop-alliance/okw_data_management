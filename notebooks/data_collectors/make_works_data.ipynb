{
 "cells": [
  {
   "cell_type": "markdown",
   "id": "78bdd878",
   "metadata": {},
   "source": [
    "<img src=\"https://pbs.twimg.com/profile_images/1092394418135539713/eplLRcDN_400x400.jpg\" width=80px style=\"text-align:right\"><h1>The Internet of Production Alliance </h1>\n",
    "\n",
    "## Data collection program for the [OKW, Map of facilities](https://www.internetofproduction.org/open-know-where)\n"
   ]
  },
  {
   "cell_type": "markdown",
   "id": "f7aabf35",
   "metadata": {},
   "source": [
    "Author: Antonio de Jesus Anaya Hernandez, DevOps eng. for the IoPA.\n",
    "\n",
    "Author: The internet of Production Alliance, 2023.\n",
    "\n",
    "Data was collected by \"Make Works, FabLab Barcelona and its partners\", URL location: https://make.works/companies\n",
    "\n",
    "The Open Know Where (OKW) Initiative is part of the Internet of Production Alliance and its members.\n",
    "\n",
    "License: CC BY SA\n",
    "\n",
    "![CC BY SA](https://mirrors.creativecommons.org/presskit/buttons/88x31/svg/by-sa.svg)\n",
    "\n",
    "Description: Python code for downloading, parsing, filtering, sorting data, exporting the RAW FabLabs, and the processed IOPA data as CSV."
   ]
  },
  {
   "cell_type": "code",
   "execution_count": 1,
   "id": "76034e9d-0d6b-4965-95ea-7adf72ac6b97",
   "metadata": {},
   "outputs": [],
   "source": [
    "# This line installs the required libraries for running the script, uncomment the line:\n",
    "# !pip install -r requirements.txt"
   ]
  },
  {
   "cell_type": "code",
   "execution_count": 2,
   "id": "cc1ffe8c",
   "metadata": {},
   "outputs": [],
   "source": [
    "import requests\n",
    "import pandas as pd"
   ]
  },
  {
   "cell_type": "code",
   "execution_count": 3,
   "id": "a88800cd-7371-4215-9328-2d9ce573a514",
   "metadata": {
    "tags": []
   },
   "outputs": [],
   "source": [
    "from datetime import datetime\n",
    "now = datetime.now()"
   ]
  },
  {
   "cell_type": "code",
   "execution_count": 4,
   "id": "7242baa4",
   "metadata": {},
   "outputs": [],
   "source": [
    "def req_data(url):\n",
    "    \n",
    "    response = requests.get(url)\n",
    "\n",
    "    print(response.status_code)\n",
    "    \n",
    "    if response.status_code == 200:\n",
    "        return response\n",
    "    else:\n",
    "        print(\"Error response: Check URL or internet avalability, and Try again.\")\n",
    "        print(url)\n",
    "        return False"
   ]
  },
  {
   "cell_type": "code",
   "execution_count": 5,
   "id": "ac16eb49-0917-4002-8e6c-ad24f362a9ea",
   "metadata": {
    "tags": []
   },
   "outputs": [
    {
     "name": "stdout",
     "output_type": "stream",
     "text": [
      "Pages: 28\n",
      "Entries: 334\n"
     ]
    }
   ],
   "source": [
    "url = \"https://make.works/companies?page={n}&format=json\"\n",
    "data = []\n",
    "x = 0\n",
    "\n",
    "while True:\n",
    "    response = requests.get(url.format(n=x))\n",
    "    json_data = response.json()\n",
    "    \n",
    "    if not json_data:\n",
    "        break\n",
    "    \n",
    "    data += json_data\n",
    "    x += 1\n",
    "\n",
    "print(\"Pages: {p}\".format(p=x))\n",
    "print(\"Entries: {e}\".format(e=len(data)))"
   ]
  },
  {
   "cell_type": "code",
   "execution_count": 6,
   "id": "3c1d27e1",
   "metadata": {},
   "outputs": [],
   "source": [
    "input_ = pd.DataFrame(data)"
   ]
  },
  {
   "cell_type": "code",
   "execution_count": 7,
   "id": "6dd4704e-a70d-4c39-af3d-e3cc24e21de1",
   "metadata": {},
   "outputs": [],
   "source": [
    "input_.reset_index(drop=True, inplace=True)"
   ]
  },
  {
   "cell_type": "code",
   "execution_count": 8,
   "id": "dbcf4a9f-0089-4203-ad22-c41aa17a96c1",
   "metadata": {},
   "outputs": [],
   "source": [
    "input_.to_csv('../data/raw_make_works_input_' + now.strftime(\"%Y_%m_%d_%H%M\") + '.csv')"
   ]
  },
  {
   "cell_type": "code",
   "execution_count": 9,
   "id": "6fec34fd-473e-49c6-b2fc-2da6e5e41920",
   "metadata": {
    "tags": []
   },
   "outputs": [
    {
     "data": {
      "text/plain": [
       "['id',\n",
       " 'm_id',\n",
       " 'region_ids',\n",
       " 'name',\n",
       " 'address',\n",
       " 'background',\n",
       " 'description',\n",
       " 'intro',\n",
       " 'contact_name',\n",
       " 'contact_email',\n",
       " 'contact_phone',\n",
       " 'contact_jobtitle',\n",
       " 'flickr',\n",
       " 'facebook',\n",
       " 'instagram',\n",
       " 'large_run',\n",
       " 'lat',\n",
       " 'lng',\n",
       " 'linkedin',\n",
       " 'location',\n",
       " 'medium_run',\n",
       " 'minimum_order',\n",
       " 'number_of_staff',\n",
       " 'file_types',\n",
       " 'image_bucket',\n",
       " 'photo1',\n",
       " 'photo2',\n",
       " 'photo3',\n",
       " 'photo4',\n",
       " 'photo5',\n",
       " 'photo6',\n",
       " 'photo7',\n",
       " 'photo8',\n",
       " 'photo9',\n",
       " 'pinterest',\n",
       " 'portrait',\n",
       " 'sample_production',\n",
       " 'short_run',\n",
       " 'soft_delete',\n",
       " 'title',\n",
       " 'top_image',\n",
       " 'slug',\n",
       " 'turnaround_time',\n",
       " 'twitter',\n",
       " 'video_link',\n",
       " 'website',\n",
       " 'youtube',\n",
       " 'year_founded',\n",
       " 'film_ready',\n",
       " 'created_at',\n",
       " 'updated_at',\n",
       " 'url']"
      ]
     },
     "execution_count": 9,
     "metadata": {},
     "output_type": "execute_result"
    }
   ],
   "source": [
    "input_.columns.tolist()"
   ]
  },
  {
   "cell_type": "code",
   "execution_count": 10,
   "id": "c402c97d-655e-4919-b027-2f7e3cb8efd7",
   "metadata": {
    "tags": []
   },
   "outputs": [],
   "source": [
    "transform = input_.rename(columns={'id': 'makeworks_id', 'url':'makeworks_url', 'lat':'latitude','lng':'longitude'})"
   ]
  },
  {
   "cell_type": "code",
   "execution_count": 11,
   "id": "b222eb70-0f61-466b-81a6-8ed33fb2aa47",
   "metadata": {
    "tags": []
   },
   "outputs": [],
   "source": [
    "transform = transform[transform['soft_delete'] != True]\n",
    "# transform['fablabs_url'] = 'https://www.fablabs.io/labs/' + transform.slug"
   ]
  },
  {
   "cell_type": "code",
   "execution_count": 12,
   "id": "b1b1b91b-3023-4cda-820c-4b60362558ec",
   "metadata": {},
   "outputs": [],
   "source": [
    "# transform['address'] = transform.address_1.astype(str) + ', ' + transform.address_2 + ', ' + transform.county"
   ]
  },
  {
   "cell_type": "code",
   "execution_count": 13,
   "id": "aecb9086-d08f-46b9-80ac-d98662322bbe",
   "metadata": {},
   "outputs": [],
   "source": [
    "output = transform.drop(columns=['medium_run','minimum_order','short_run','turnaround_time','twitter','m_id', 'region_ids','background','intro','contact_name', 'contact_phone','contact_jobtitle','youtube', 'year_founded','film_ready','title','top_image','flickr','facebook','instagram','number_of_staff','file_types','image_bucket','photo1','photo2','photo3','photo4','photo5','photo6','photo7','photo8','photo9','pinterest','portrait','sample_production','soft_delete','large_run','linkedin','video_link'])"
   ]
  },
  {
   "cell_type": "code",
   "execution_count": 14,
   "id": "02b0874b",
   "metadata": {},
   "outputs": [],
   "source": [
    "output.to_csv('../data/iopa_make_works_output_' + now.strftime(\"%Y_%m_%d_%H%M\") + '.csv')"
   ]
  },
  {
   "cell_type": "code",
   "execution_count": 16,
   "id": "e9fc2562-0305-4c43-b2a6-6038375e361c",
   "metadata": {},
   "outputs": [
    {
     "data": {
      "text/plain": [
       "['makeworks_id',\n",
       " 'name',\n",
       " 'address',\n",
       " 'description',\n",
       " 'contact_email',\n",
       " 'latitude',\n",
       " 'longitude',\n",
       " 'location',\n",
       " 'slug',\n",
       " 'website',\n",
       " 'created_at',\n",
       " 'updated_at',\n",
       " 'makeworks_url']"
      ]
     },
     "execution_count": 16,
     "metadata": {},
     "output_type": "execute_result"
    }
   ],
   "source": [
    "output.columns.tolist()"
   ]
  },
  {
   "cell_type": "code",
   "execution_count": 17,
   "id": "7817409b-bed4-480a-b4a6-5014891a6005",
   "metadata": {
    "tags": []
   },
   "outputs": [
    {
     "name": "stdout",
     "output_type": "stream",
     "text": [
      "OKW entries: 334, columns = 13\n"
     ]
    }
   ],
   "source": [
    "print(\"OKW entries: {r[0]}, columns = {r[1]}\".format(r=output.shape))"
   ]
  },
  {
   "cell_type": "code",
   "execution_count": null,
   "id": "27aba97d-298d-40a6-8153-e42653a55412",
   "metadata": {},
   "outputs": [],
   "source": []
  }
 ],
 "metadata": {
  "kernelspec": {
   "display_name": "Python 3 (ipykernel)",
   "language": "python",
   "name": "python3"
  },
  "language_info": {
   "codemirror_mode": {
    "name": "ipython",
    "version": 3
   },
   "file_extension": ".py",
   "mimetype": "text/x-python",
   "name": "python",
   "nbconvert_exporter": "python",
   "pygments_lexer": "ipython3",
   "version": "3.10.13"
  }
 },
 "nbformat": 4,
 "nbformat_minor": 5
}
