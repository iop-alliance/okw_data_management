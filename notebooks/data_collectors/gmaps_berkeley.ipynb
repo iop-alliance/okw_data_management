{
 "cells": [
  {
   "cell_type": "markdown",
   "id": "7a957a53-1265-4085-ad5d-c656ba7c8d7a",
   "metadata": {},
   "source": [
    "<img src=\"https://pbs.twimg.com/profile_images/1092394418135539713/eplLRcDN_400x400.jpg\" width=80px style=\"text-align:right\"><h1>The Internet of Production Alliance </h1>\n",
    "\n",
    "## Data collection program for the [OKW, Map of facilities](https://www.internetofproduction.org/open-know-where)\n"
   ]
  },
  {
   "cell_type": "markdown",
   "id": "0b2c8313-320a-4d2f-83d6-c2f9b425462b",
   "metadata": {},
   "source": [
    "Author: Antonio de Jesus Anaya Hernandez, DevOps eng. for the IoPA.\n",
    "\n",
    "Author: The internet of Production Alliance, 2023.\n",
    "\n",
    "Data was collected by \"UC Berkeley's Jacobs Institute for Design Innovation, and its partners\", URL location: \"https://www.google.com/maps/d/u/0/viewer?mid=10q6m1yyAUzFn2zqDcRwq-qInUmvoVz4q&ll=36.477161278633425%2C-119.52755771944813&z=7\"\n",
    "\n",
    "Data source license:\n",
    "\n",
    "The Open Know Where (OKW) Initiative is part of the Internet of Production Alliance and its members.\n",
    "\n",
    "License: CC BY SA\n",
    "\n",
    "![CC BY SA](https://mirrors.creativecommons.org/presskit/buttons/88x31/svg/by-sa.svg)\n",
    "\n",
    "Description: Python code for downloading, parsing, filtering, sorting data, exporting the RAW makery locations, and the processed IOPA data as CSV."
   ]
  },
  {
   "cell_type": "code",
   "execution_count": 1,
   "id": "e657c8a3-b25b-4559-a078-5de62233d2b5",
   "metadata": {
    "tags": []
   },
   "outputs": [],
   "source": [
    "#!pip install fastkml lxml"
   ]
  },
  {
   "cell_type": "code",
   "execution_count": 2,
   "id": "77d47215-f218-465c-ab56-81455b6325b9",
   "metadata": {
    "tags": []
   },
   "outputs": [],
   "source": [
    "from fastkml import kml"
   ]
  },
  {
   "cell_type": "code",
   "execution_count": 3,
   "id": "df16e8cc-5144-44aa-8729-fad40676149d",
   "metadata": {},
   "outputs": [],
   "source": [
    "import requests\n",
    "import pandas as pd"
   ]
  },
  {
   "cell_type": "code",
   "execution_count": 4,
   "id": "7efc94c3-ab3f-45dd-9a54-8501f2f0d103",
   "metadata": {
    "tags": []
   },
   "outputs": [],
   "source": [
    "from datetime import datetime\n",
    "now = datetime.now()"
   ]
  },
  {
   "cell_type": "code",
   "execution_count": 5,
   "id": "f2d4a22f-ac97-4a0f-96c9-49ebb9a4e338",
   "metadata": {},
   "outputs": [],
   "source": [
    "def req_data(url):\n",
    "    \n",
    "    response = requests.get(url)\n",
    "\n",
    "    print(response.status_code)\n",
    "    \n",
    "    if response.status_code == 200:\n",
    "        return response\n",
    "    else:\n",
    "        print(\"Error response: Check URL or internet avalability, and Try again.\")\n",
    "        print(url)"
   ]
  },
  {
   "cell_type": "code",
   "execution_count": 6,
   "id": "abcf2cda-0e91-4156-9e6c-03437be87d22",
   "metadata": {
    "tags": []
   },
   "outputs": [],
   "source": [
    "kml_url = \"http://www.google.com/maps/d/kml?forcekml=1&mid=123W1JzyYEJlCg3Dh21OcTCLIknk-s_Y\""
   ]
  },
  {
   "cell_type": "code",
   "execution_count": 7,
   "id": "e5868456-08eb-4ce7-b3fe-b9014bea759c",
   "metadata": {
    "tags": []
   },
   "outputs": [
    {
     "name": "stdout",
     "output_type": "stream",
     "text": [
      "200\n"
     ]
    }
   ],
   "source": [
    "g_map = req_data(kml_url).content"
   ]
  },
  {
   "cell_type": "code",
   "execution_count": 8,
   "id": "00e2b6a3-217b-4d28-8043-25d2cef721eb",
   "metadata": {
    "tags": []
   },
   "outputs": [],
   "source": [
    "kml_file = kml.KML()\n",
    "kml_file.from_string(g_map)"
   ]
  },
  {
   "cell_type": "code",
   "execution_count": 9,
   "id": "31535cc6-64d2-45c0-a73f-2aa796fd424b",
   "metadata": {
    "tags": []
   },
   "outputs": [],
   "source": [
    "features = list(kml_file.features())"
   ]
  },
  {
   "cell_type": "code",
   "execution_count": 11,
   "id": "67ebfe4f-23b5-40bb-bf96-0b59cb944740",
   "metadata": {
    "tags": []
   },
   "outputs": [],
   "source": [
    "f2 = list(features[0].features())"
   ]
  },
  {
   "cell_type": "code",
   "execution_count": 12,
   "id": "a8fa6bec-002d-40aa-9582-7c60adf7cc2b",
   "metadata": {
    "tags": []
   },
   "outputs": [],
   "source": [
    "table = []\n",
    "\n",
    "for folder in f2:\n",
    "    f = folder.features()\n",
    "    for record in f:\n",
    "        table.append((record.name, record.geometry.x, record.geometry.y, folder.name))"
   ]
  },
  {
   "cell_type": "code",
   "execution_count": 14,
   "id": "b3cd46aa-3bae-44f5-8709-65e979e63419",
   "metadata": {
    "tags": []
   },
   "outputs": [],
   "source": [
    "output = pd.DataFrame(table, columns=['name', 'latitude', 'longitude', 'type'])"
   ]
  },
  {
   "cell_type": "code",
   "execution_count": 15,
   "id": "d52e3eff-ddea-4748-90d3-0f5eb1fe453b",
   "metadata": {
    "tags": []
   },
   "outputs": [],
   "source": [
    "output.to_csv('../data/iopa_berkeley_' + now.strftime(\"%Y_%m_%d_%H%M\") + '.csv')"
   ]
  },
  {
   "cell_type": "code",
   "execution_count": 16,
   "id": "99177465-6ad0-437d-a284-fe054f6abf26",
   "metadata": {},
   "outputs": [
    {
     "name": "stdout",
     "output_type": "stream",
     "text": [
      "OKW entries: 36, columns = 4\n"
     ]
    }
   ],
   "source": [
    "print(\"OKW entries: {r[0]}, columns = {r[1]}\".format(r=output.shape))"
   ]
  },
  {
   "cell_type": "code",
   "execution_count": null,
   "id": "9f4b1cf9-5014-486b-bb5d-988195c642e5",
   "metadata": {},
   "outputs": [],
   "source": []
  }
 ],
 "metadata": {
  "kernelspec": {
   "display_name": "webapp_okw",
   "language": "python",
   "name": "webapp_okw"
  },
  "language_info": {
   "codemirror_mode": {
    "name": "ipython",
    "version": 3
   },
   "file_extension": ".py",
   "mimetype": "text/x-python",
   "name": "python",
   "nbconvert_exporter": "python",
   "pygments_lexer": "ipython3",
   "version": "3.10.13"
  }
 },
 "nbformat": 4,
 "nbformat_minor": 5
}
