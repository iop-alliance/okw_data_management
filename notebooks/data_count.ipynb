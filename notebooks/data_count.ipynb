{
 "cells": [
  {
   "cell_type": "markdown",
   "id": "31d8ced8-ae7a-4307-b28a-18579fa72514",
   "metadata": {},
   "source": [
    "<img src=\"https://pbs.twimg.com/profile_images/1092394418135539713/eplLRcDN_400x400.jpg\" width=80px style=\"text-align:right\"><h1>The Internet of Production Alliance </h1>\n",
    "\n",
    "## Data collection program for the [OKW, Map of facilities](https://www.internetofproduction.org/open-know-where)\n"
   ]
  },
  {
   "cell_type": "markdown",
   "id": "5857e0f3-5b93-4aca-987e-0ee90827c8bc",
   "metadata": {
    "tags": []
   },
   "source": [
    "Author: Antonio de Jesus Anaya Hernandez, DevOps eng. for the IoPA.\n",
    "\n",
    "Author: The internet of Production Alliance, 2024.\n",
    "\n",
    "Data was collected by: \n",
    "\n",
    "1. \"The Fab Foundation, FabLab Network and its partners\", URL location: https://api.fablabs.io/0/labs.json\n",
    "2. \"Make Works, FabLab Barcelona and its partners\", URL location: https://make.works/companies\n",
    "3. \"Offene Werkstaetten, and its partners\", URL location: https://www.offene-werkstaetten.org/de/werkstatt-suche\n",
    "4. \"Field Ready Inc. and its partners\", URL location: sftp://acc1079413848@access804698569.webspace-data.io/raw_fieldready_input_2022.csv\n",
    "5. \"Makery\"\n",
    "6. \"MakerTour\"\n",
    "7. \"Makezine\"\n",
    "8. \"Bay Area Makerspaces UC Berkeley\"\n",
    "9. \"Bay Area Makerspaces Upbeatlab\"\n",
    "10. \"sphere.diybio.org\"\n",
    "11. \"Hackerspaces.org\"\n",
    "12. \"Vulca\"\n",
    "13. \"Data Awards r1\"\n",
    "14. \"Data Awards r2\"\n",
    "15. \"IMA\"\n",
    "16. \"mAkE\"\n",
    "17. \"FabCity\"\n",
    "18. \"Univeristy of Michigan 3DLab\"\n",
    "\n",
    "The Open Know Where (OKW) Initiative is part of the Internet of Production Alliance and its members.\n",
    "\n",
    "License: CC BY SA\n",
    "\n",
    "![CC BY SA](https://mirrors.creativecommons.org/presskit/buttons/88x31/svg/by-sa.svg)\n",
    "\n",
    "Description: Python code reading the processed IOPA data, determine the country and region by reversed geocoding, and count the total records.\n",
    "\n",
    "Rev 0, 01/16/2024"
   ]
  },
  {
   "cell_type": "code",
   "execution_count": 1,
   "id": "1dea2990-b539-48d1-b33c-521933db2b17",
   "metadata": {
    "tags": []
   },
   "outputs": [],
   "source": [
    "import pandas as pd\n",
    "import math"
   ]
  },
  {
   "cell_type": "code",
   "execution_count": 2,
   "id": "93ee3864-0af8-40a5-b4e2-4964017c50e6",
   "metadata": {
    "tags": []
   },
   "outputs": [],
   "source": [
    "dir_loc = '../data/'\n",
    "\n",
    "version = 'iopa_'\n",
    "\n",
    "countries_geo = pd.read_csv(dir_loc + 'countries.csv')\n",
    "# on later version this line will be replaced by a data validation and normalization data output csv file.\n",
    "\n",
    "sources = ['iopa_fablabsio_output_2023_11_30_0850.csv', 'iopa_make_works_output_2023_11_30_0625.csv', 'iopa_offene_output_2023_11_30_0306.csv', 'raw_fieldready_input_2022.csv',\n",
    "          'iopa_makery_output_2024_02_13_0154.csv', 'raw_makertour_input_2024_02_18_0418.csv']"
   ]
  },
  {
   "cell_type": "code",
   "execution_count": 3,
   "id": "bd88bc9b-26b4-4e86-84a7-a74be7952b89",
   "metadata": {
    "tags": []
   },
   "outputs": [],
   "source": [
    "regions = {}\n",
    "countries = {}\n",
    "points = {}"
   ]
  },
  {
   "cell_type": "code",
   "execution_count": 5,
   "id": "e26a23a5-de79-4e28-ba23-e106397cc6d1",
   "metadata": {
    "tags": []
   },
   "outputs": [],
   "source": [
    "for file in sources:\n",
    "    points[file] = pd.read_csv(dir_loc + file).dropna(subset = ['latitude', 'longitude'])\n",
    "\n",
    "def d(x1, y1, x2, y2):\n",
    "    return math.sqrt((x2 - x1)**2 + (y2 - y1)**2)"
   ]
  },
  {
   "cell_type": "code",
   "execution_count": 6,
   "id": "ff94032b-ca1a-42c9-8f90-4587d37aaa26",
   "metadata": {
    "tags": []
   },
   "outputs": [
    {
     "name": "stdout",
     "output_type": "stream",
     "text": [
      "(1879, 15)\n",
      "{'Europe': 845, 'Asia': 367, 'Americas': 555, 'Africa': 93, 'Oceania': 19}\n",
      "1879\n",
      "(303, 14)\n",
      "{'Europe': 1098, 'Asia': 416, 'Americas': 556, 'Africa': 93, 'Oceania': 19}\n",
      "2182\n",
      "(482, 11)\n",
      "{'Europe': 1580, 'Asia': 416, 'Americas': 556, 'Africa': 93, 'Oceania': 19}\n",
      "2664\n",
      "(9498, 65)\n",
      "{'Europe': 1580, 'Asia': 1587, 'Americas': 556, 'Africa': 8420, 'Oceania': 19}\n",
      "12162\n",
      "(528, 13)\n",
      "{'Europe': 2009, 'Asia': 1606, 'Americas': 610, 'Africa': 8439, 'Oceania': 26}\n",
      "12690\n",
      "(151, 8)\n",
      "{'Europe': 2098, 'Asia': 1638, 'Americas': 639, 'Africa': 8439, 'Oceania': 27}\n",
      "12841\n"
     ]
    }
   ],
   "source": [
    "for file in points.values():\n",
    "    print(file.shape)\n",
    "    for key, record in file.iterrows():\n",
    "        dr = float('inf')\n",
    "        \n",
    "        for ckey, country in countries_geo.iterrows():\n",
    "            dn = d(record['latitude'], record['longitude'], country['latitude'], country['longitude'])\n",
    "\n",
    "            if dn < dr:\n",
    "                dr = dn\n",
    "                region = country['region']\n",
    "                country_name = country['name']\n",
    "            else:\n",
    "                dr = dr\n",
    "                region = region\n",
    "                country_name = country_name\n",
    "        try:\n",
    "            countries[country_name] += 1\n",
    "        except KeyError:\n",
    "            if not country_name == None:\n",
    "                countries[country_name] = 1\n",
    "            \n",
    "        try:\n",
    "            regions[region] += 1\n",
    "        except KeyError:\n",
    "            if not region == None:\n",
    "                regions[region] = 1\n",
    "\n",
    "                \n",
    "    print(regions)\n",
    "    print(sum(regions.values()))"
   ]
  },
  {
   "cell_type": "code",
   "execution_count": 7,
   "id": "0000ec32-3ee3-476e-9d30-dc56a672e385",
   "metadata": {
    "tags": []
   },
   "outputs": [
    {
     "name": "stdout",
     "output_type": "stream",
     "text": [
      "[('Uganda', 6709), ('Kenya', 1596), ('Bangladesh', 1049), ('Germany', 202), ('Belgium', 192), ('Czech Republic', 147), ('Man (Isle of)', 136), ('United States', 133), ('France', 115), ('Iraq', 114), ('Paraguay', 109), ('United Kingdom', 109), ('Andorra', 104), ('Switzerland', 99), ('Monaco', 91), ('Denmark', 86), ('Netherlands', 81), ('Liechtenstein', 81), ('Bermuda', 79), ('Luxembourg', 78), ('Jersey', 76), ('Austria', 76), ('Mexico', 64), ('United Arab Emirates', 56), ('South Korea', 46), ('Peru', 41), ('Portugal', 41), ('Georgia', 37), ('San Marino', 35), ('Vatican City State (Holy See)', 35), ('Spain', 34), ('Sri Lanka', 31), ('India', 29), ('Djibouti', 29), ('Taiwan', 27), ('Philippines', 26), ('Uruguay', 26), ('Chile', 26), ('Japan', 24), ('Guernsey and Alderney', 24), ('The Bahamas', 23), ('Ukraine', 22), ('Kuwait', 19), ('Brazil', 18), ('Egypt', 18), ('Malta', 18), ('Slovenia', 17), ('Iceland', 16), ('Hong Kong S.A.R.', 16), ('Colombia', 16), ('Nepal', 15), ('Greece', 15), ('Bulgaria', 15), ('Singapore', 15), ('Palestinian Territory Occupied', 13), ('Italy', 13), ('Poland', 13), ('Ireland', 13), ('Gibraltar', 12), ('Ecuador', 11), ('Estonia', 11), ('Pakistan', 9), ('Saint Pierre and Miquelon', 9), ('Israel', 9), ('Saudi Arabia', 9), ('Bahrain', 9), ('Hungary', 9), ('Moldova', 8), ('Montenegro', 8), ('Tunisia', 8), ('New Zealand', 8), ('Kazakhstan', 8), ('Cuba', 8), ('Costa Rica', 8), ('Iran', 8), ('Togo', 8), ('French Guiana', 8), ('Australia', 8), ('Bolivia', 7), ('Faroe Islands', 7), ('Cambodia', 7), ('Argentina', 7), ('Qatar', 7), ('Laos', 7), ('Slovakia', 7), ('China', 6), ('Lithuania', 6), ('Morocco', 6), ('Gambia The', 6), ('North Korea', 6), ('Suriname', 6), (\"Cote D'Ivoire (Ivory Coast)\", 6), ('Finland', 6), ('Croatia', 5), ('Cameroon', 5), ('Belize', 5), ('Reunion', 5), ('Albania', 5), ('Guatemala', 5), ('El Salvador', 5), ('Congo', 5), ('Puerto Rico', 5), ('Aland Islands', 5), ('Armenia', 5), ('Serbia', 5), ('Russia', 5), ('Equatorial Guinea', 4), ('Macau S.A.R.', 4), ('South Africa', 4), ('Christmas Island', 4), ('Canada', 4), ('Kyrgyzstan', 4), ('Turkey', 4), ('Bhutan', 4), ('Panama', 4), ('Nigeria', 4), ('Aruba', 4), ('Norway', 4), ('Bosnia and Herzegovina', 3), ('Thailand', 3), ('Norfolk Island', 3), ('Swaziland', 3), ('Burkina Faso', 3), ('Lebanon', 3), ('North Macedonia', 3), ('Bonaire, Sint Eustatius and Saba', 3), ('Rwanda', 3), ('New Caledonia', 2), ('Indonesia', 2), ('Vietnam', 2), ('Ethiopia', 2), ('Jordan', 2), ('Guinea', 2), ('Tokelau', 2), ('Cyprus', 2), ('Eritrea', 2), ('Benin', 1), ('Tanzania', 1), ('Sierra Leone', 1), ('Honduras', 1), ('Madagascar', 1), ('Azerbaijan', 1), ('Jamaica', 1), ('Syria', 1), ('Ghana', 1), ('Lesotho', 1), ('Falkland Islands', 1), ('Latvia', 1), ('Oman', 1), ('Mauritania', 1), ('Guadeloupe', 1), ('Chad', 1), ('Western Sahara', 1), ('Trinidad And Tobago', 1), ('Liberia', 1), ('Zambia', 1), ('Kosovo', 1), ('Romania', 1)]\n"
     ]
    }
   ],
   "source": [
    "print(sorted(countries.items(), key=lambda x:x[1], reverse=True))"
   ]
  },
  {
   "cell_type": "code",
   "execution_count": 8,
   "id": "613279f5-ad4b-49f1-9537-e8dbf975abad",
   "metadata": {},
   "outputs": [
    {
     "name": "stdout",
     "output_type": "stream",
     "text": [
      "[('Africa', 8439), ('Europe', 2098), ('Asia', 1638), ('Americas', 639), ('Oceania', 27)]\n"
     ]
    }
   ],
   "source": [
    "print(sorted(regions.items(), key=lambda x:x[1], reverse=True))"
   ]
  },
  {
   "cell_type": "code",
   "execution_count": 9,
   "id": "281af02d-ba89-4e8a-b3a3-1d5449ef7b01",
   "metadata": {
    "tags": []
   },
   "outputs": [
    {
     "name": "stdout",
     "output_type": "stream",
     "text": [
      "12841\n"
     ]
    }
   ],
   "source": [
    "print(sum(regions.values()))"
   ]
  },
  {
   "cell_type": "code",
   "execution_count": 13,
   "id": "9b38234d-5eb6-407d-88d1-13400f242d78",
   "metadata": {
    "tags": []
   },
   "outputs": [
    {
     "name": "stdout",
     "output_type": "stream",
     "text": [
      "102728\n"
     ]
    }
   ],
   "source": [
    "print(int(sum(countries.values())* 8))"
   ]
  },
  {
   "cell_type": "code",
   "execution_count": 11,
   "id": "3fffb1a6-26b1-45f0-9c6d-76d7161c7157",
   "metadata": {},
   "outputs": [
    {
     "data": {
      "text/plain": [
       "6709"
      ]
     },
     "execution_count": 11,
     "metadata": {},
     "output_type": "execute_result"
    }
   ],
   "source": [
    "countries['Uganda']"
   ]
  },
  {
   "cell_type": "code",
   "execution_count": null,
   "id": "695b7fb2-471b-4df5-bc8e-f92f033420f2",
   "metadata": {},
   "outputs": [],
   "source": []
  }
 ],
 "metadata": {
  "kernelspec": {
   "display_name": "webapp_okw",
   "language": "python",
   "name": "webapp_okw"
  },
  "language_info": {
   "codemirror_mode": {
    "name": "ipython",
    "version": 3
   },
   "file_extension": ".py",
   "mimetype": "text/x-python",
   "name": "python",
   "nbconvert_exporter": "python",
   "pygments_lexer": "ipython3",
   "version": "3.10.13"
  }
 },
 "nbformat": 4,
 "nbformat_minor": 5
}
