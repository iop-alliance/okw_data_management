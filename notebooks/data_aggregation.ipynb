{
 "cells": [
  {
   "cell_type": "markdown",
   "id": "8b05fe05-cfde-45db-88ae-759fa944a9bc",
   "metadata": {},
   "source": [
    "(WIP)"
   ]
  }
 ],
 "metadata": {
  "kernelspec": {
   "display_name": "webapp_okw",
   "language": "python",
   "name": "webapp_okw"
  },
  "language_info": {
   "codemirror_mode": {
    "name": "ipython",
    "version": 3
   },
   "file_extension": ".py",
   "mimetype": "text/x-python",
   "name": "python",
   "nbconvert_exporter": "python",
   "pygments_lexer": "ipython3",
   "version": "3.10.9"
  }
 },
 "nbformat": 4,
 "nbformat_minor": 5
}
