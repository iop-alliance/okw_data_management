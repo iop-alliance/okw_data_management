{
 "cells": [
  {
   "cell_type": "code",
   "execution_count": 1,
   "id": "462c977e-e643-4535-86b3-4a69f5da2611",
   "metadata": {
    "tags": []
   },
   "outputs": [],
   "source": [
    "#Compare column_names, find common columns, setup json-schema\n",
    "#Clustering by name, lat-long, distance."
   ]
  },
  {
   "cell_type": "code",
   "execution_count": 2,
   "id": "dbb4dbce-9610-43ab-8273-16aef45ae3d1",
   "metadata": {
    "tags": []
   },
   "outputs": [],
   "source": [
    "json_schema_template = \"\"\"{\n",
    "  \"$schema\": \"http://json-schema.org/draft-07/schema#\",\n",
    "  \"type\": \"object\",\n",
    "  \"properties\": {\n",
    "    \"name\": { \"type\": \"string\" },\n",
    "    \"city\": { \"type\": \"string\" },\n",
    "    \"country\": { \"type\": \"string\" },\n",
    "    \"tags\": {\n",
    "      \"type\": \"array\",\n",
    "      \"items\": { \"type\": \"string\" }\n",
    "    },\n",
    "    \"url\": { \"type\": \"string\", \"format\": \"uri\" },\n",
    "    \"latitude\": { \"type\": \"number\" },\n",
    "    \"longitude\": { \"type\": \"number\" }\n",
    "  },\n",
    "  \"required\": [\"name\", \"city\", \"country\", \"tags\", \"url\", \"latitude\", \"longitude\"]\n",
    "}\"\"\""
   ]
  },
  {
   "cell_type": "code",
   "execution_count": null,
   "id": "992bf52b-b2fb-4c00-a592-631fe93893de",
   "metadata": {},
   "outputs": [],
   "source": []
  }
 ],
 "metadata": {
  "kernelspec": {
   "display_name": "webapp_okw",
   "language": "python",
   "name": "webapp_okw"
  },
  "language_info": {
   "codemirror_mode": {
    "name": "ipython",
    "version": 3
   },
   "file_extension": ".py",
   "mimetype": "text/x-python",
   "name": "python",
   "nbconvert_exporter": "python",
   "pygments_lexer": "ipython3",
   "version": "3.10.13"
  }
 },
 "nbformat": 4,
 "nbformat_minor": 5
}
