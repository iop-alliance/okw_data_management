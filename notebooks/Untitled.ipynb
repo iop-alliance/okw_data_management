{
 "cells": [
  {
   "cell_type": "code",
   "execution_count": null,
   "id": "30b8a39e-3f5a-4d72-b175-6ea04ed9ad40",
   "metadata": {},
   "outputs": [],
   "source": []
  }
 ],
 "metadata": {
  "kernelspec": {
   "display_name": "webapp_okw",
   "language": "python",
   "name": "webapp_okw"
  },
  "language_info": {
   "codemirror_mode": {
    "name": "ipython",
    "version": 3
   },
   "file_extension": ".py",
   "mimetype": "text/x-python",
   "name": "python",
   "nbconvert_exporter": "python",
   "pygments_lexer": "ipython3",
   "version": "3.10.9"
  }
 },
 "nbformat": 4,
 "nbformat_minor": 5
}
