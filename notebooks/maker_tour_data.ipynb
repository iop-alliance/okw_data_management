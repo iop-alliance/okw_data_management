{
 "cells": [
  {
   "cell_type": "markdown",
   "id": "78bdd878",
   "metadata": {},
   "source": [
    "<img src=\"https://pbs.twimg.com/profile_images/1092394418135539713/eplLRcDN_400x400.jpg\" width=80px style=\"text-align:right\"><h1>The Internet of Production Alliance </h1>\n",
    "\n",
    "## Data collection program for the [OKW, Map of facilities](https://www.internetofproduction.org/open-know-where)\n"
   ]
  },
  {
   "cell_type": "markdown",
   "id": "f7aabf35",
   "metadata": {},
   "source": [
    "Author: Antonio de Jesus Anaya Hernandez, DevOps eng. for the IoPA.\n",
    "\n",
    "Author: The internet of Production Alliance, 2023.\n",
    "\n",
    "Data was collected by \"Makertour, and its partners\", URL location: https://www.makertour.fr/workshops/\n",
    "\n",
    "The Open Know Where (OKW) Initiative is part of the Internet of Production Alliance and its members.\n",
    "\n",
    "License: CC BY SA\n",
    "\n",
    "![CC BY SA](https://mirrors.creativecommons.org/presskit/buttons/88x31/svg/by-sa.svg)\n",
    "\n",
    "Description: Python code for downloading, parsing, filtering, sorting data, exporting the RAW FabLabs, and the processed IOPA data as CSV."
   ]
  },
  {
   "cell_type": "code",
   "execution_count": 1,
   "id": "76034e9d-0d6b-4965-95ea-7adf72ac6b97",
   "metadata": {},
   "outputs": [],
   "source": [
    "# This line installs the required libraries for running the script, uncomment the line:\n",
    "# !pip install -r requirements.txt"
   ]
  },
  {
   "cell_type": "code",
   "execution_count": 2,
   "id": "cc1ffe8c",
   "metadata": {},
   "outputs": [],
   "source": [
    "import requests\n",
    "import pandas as pd\n",
    "import json\n",
    "from bs4 import BeautifulSoup"
   ]
  },
  {
   "cell_type": "code",
   "execution_count": 3,
   "id": "a88800cd-7371-4215-9328-2d9ce573a514",
   "metadata": {
    "tags": []
   },
   "outputs": [],
   "source": [
    "from datetime import datetime\n",
    "now = datetime.now()"
   ]
  },
  {
   "cell_type": "code",
   "execution_count": 4,
   "id": "ac16eb49-0917-4002-8e6c-ad24f362a9ea",
   "metadata": {
    "tags": []
   },
   "outputs": [
    {
     "name": "stdout",
     "output_type": "stream",
     "text": [
      "<Response [200]>\n"
     ]
    }
   ],
   "source": [
    "url = \"https://www.makertour.fr/map\"\n",
    "\n",
    "response = requests.get(url)\n",
    "print(response)"
   ]
  },
  {
   "cell_type": "code",
   "execution_count": 5,
   "id": "af0bb589-b1b9-469c-afbe-f6f63a4f719b",
   "metadata": {
    "tags": []
   },
   "outputs": [],
   "source": [
    "html_bytes = response.content\n",
    "html_string = html_bytes.decode('utf-8')\n",
    "\n",
    "soup = BeautifulSoup(html_string, 'html.parser')\n",
    "map_content = soup.find('div', id='map')\n",
    "markers_string = map_content.get('data-markers')\n",
    "\n",
    "markers_json = json.loads(markers_string)"
   ]
  },
  {
   "cell_type": "code",
   "execution_count": 6,
   "id": "fe8143d7-1c55-45f4-b218-052e01d52656",
   "metadata": {
    "tags": []
   },
   "outputs": [],
   "source": [
    "def extract_info(html_content):\n",
    "    soup = BeautifulSoup(html_content, 'html.parser')\n",
    "    \n",
    "    title = soup.find('h2', class_='workshop-title').text.strip()\n",
    "    location = soup.find('span', class_='city-country').text.strip()\n",
    "    tags = [tag.text.strip() for tag in soup.find_all('span', class_='tag primary')]\n",
    "    href = soup.find('a', class_='card-link')['href'].strip()\n",
    "\n",
    "    return [title] + location.split(\", \") + [tags, \"https://www.makertour.fr\" + href]\n",
    "\n",
    "data = []\n",
    "for record in markers_json:\n",
    "    \n",
    "    data.append(extract_info(record['content']) + [record['lat'], record['lng']])\n",
    "\n",
    "columns = ['name', 'city', 'country', 'tags', 'url', 'latitude', 'longitude']"
   ]
  },
  {
   "cell_type": "code",
   "execution_count": 7,
   "id": "3c1d27e1",
   "metadata": {},
   "outputs": [],
   "source": [
    "input_ = pd.DataFrame(data, columns=columns)"
   ]
  },
  {
   "cell_type": "code",
   "execution_count": 8,
   "id": "6dd4704e-a70d-4c39-af3d-e3cc24e21de1",
   "metadata": {},
   "outputs": [],
   "source": [
    "input_.reset_index(drop=True, inplace=True)"
   ]
  },
  {
   "cell_type": "code",
   "execution_count": 9,
   "id": "dbcf4a9f-0089-4203-ad22-c41aa17a96c1",
   "metadata": {},
   "outputs": [],
   "source": [
    "input_.to_csv('../data/raw_makertour_input_' + now.strftime(\"%Y_%m_%d_%H%M\") + '.csv')"
   ]
  },
  {
   "cell_type": "code",
   "execution_count": 10,
   "id": "6fec34fd-473e-49c6-b2fc-2da6e5e41920",
   "metadata": {
    "tags": []
   },
   "outputs": [
    {
     "data": {
      "text/plain": [
       "['name', 'city', 'country', 'tags', 'url', 'latitude', 'longitude']"
      ]
     },
     "execution_count": 10,
     "metadata": {},
     "output_type": "execute_result"
    }
   ],
   "source": [
    "input_.columns.tolist()"
   ]
  },
  {
   "cell_type": "code",
   "execution_count": 11,
   "id": "7817409b-bed4-480a-b4a6-5014891a6005",
   "metadata": {
    "tags": []
   },
   "outputs": [
    {
     "name": "stdout",
     "output_type": "stream",
     "text": [
      "OKW entries: 151, columns = 7\n"
     ]
    }
   ],
   "source": [
    "print(\"OKW entries: {r[0]}, columns = {r[1]}\".format(r=input_.shape))"
   ]
  },
  {
   "cell_type": "code",
   "execution_count": 12,
   "id": "27aba97d-298d-40a6-8153-e42653a55412",
   "metadata": {},
   "outputs": [],
   "source": [
    "#notes: notebooks will change to only collect raw data, and generate DB metadata on preparation for data aggregation process. "
   ]
  },
  {
   "cell_type": "code",
   "execution_count": 13,
   "id": "d316d554-dd46-4bfb-8f24-eefccfa7e658",
   "metadata": {
    "tags": []
   },
   "outputs": [],
   "source": [
    "\"\"\"\n",
    "meta.json\n",
    "Entries, column_names, creation_date\n",
    "\"\"\""
   ]
  }
 ],
 "metadata": {
  "kernelspec": {
   "display_name": "webapp_okw",
   "language": "python",
   "name": "webapp_okw"
  },
  "language_info": {
   "codemirror_mode": {
    "name": "ipython",
    "version": 3
   },
   "file_extension": ".py",
   "mimetype": "text/x-python",
   "name": "python",
   "nbconvert_exporter": "python",
   "pygments_lexer": "ipython3",
   "version": "3.10.13"
  }
 },
 "nbformat": 4,
 "nbformat_minor": 5
}
