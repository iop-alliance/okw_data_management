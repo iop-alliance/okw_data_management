{
 "cells": [
  {
   "cell_type": "markdown",
   "id": "78bdd878",
   "metadata": {},
   "source": [
    "<img src=\"https://pbs.twimg.com/profile_images/1092394418135539713/eplLRcDN_400x400.jpg\" width=80px style=\"text-align:right\"><h1>The Internet of Production Alliance </h1>\n",
    "\n",
    "## Data collection program for the [OKW, Map of facilities](https://www.internetofproduction.org/open-know-where)\n"
   ]
  },
  {
   "cell_type": "markdown",
   "id": "f7aabf35",
   "metadata": {},
   "source": [
    "Author: Antonio de Jesus Anaya Hernandez, DevOps eng. for the IoPA.\n",
    "\n",
    "Author: The internet of Production Alliance, 2023.\n",
    "\n",
    "Data was collected by \"Makertour, and its partners\", URL location: https://www.makertour.fr/workshops/\n",
    "\n",
    "The Open Know Where (OKW) Initiative is part of the Internet of Production Alliance and its members.\n",
    "\n",
    "License: CC BY SA\n",
    "\n",
    "![CC BY SA](https://mirrors.creativecommons.org/presskit/buttons/88x31/svg/by-sa.svg)\n",
    "\n",
    "Description: Python code for downloading, parsing, filtering, sorting data, exporting the RAW FabLabs, and the processed IOPA data as CSV."
   ]
  },
  {
   "cell_type": "code",
   "execution_count": 1,
   "id": "76034e9d-0d6b-4965-95ea-7adf72ac6b97",
   "metadata": {},
   "outputs": [],
   "source": [
    "# This line installs the required libraries for running the script, uncomment the line:\n",
    "# !pip install -r requirements.txt"
   ]
  },
  {
   "cell_type": "code",
   "execution_count": 2,
   "id": "cc1ffe8c",
   "metadata": {},
   "outputs": [],
   "source": [
    "import requests\n",
    "import pandas as pd\n",
    "import json\n",
    "from bs4 import BeautifulSoup\n",
    "from datetime import datetime"
   ]
  },
  {
   "cell_type": "code",
   "execution_count": 4,
   "id": "ac16eb49-0917-4002-8e6c-ad24f362a9ea",
   "metadata": {
    "tags": []
   },
   "outputs": [
    {
     "name": "stdout",
     "output_type": "stream",
     "text": [
      "<Response [200]>\n"
     ]
    }
   ],
   "source": [
    "date = datetime.now().strftime(\"%Y_%m_%d_%H%M\")\n",
    "url = \"https://www.makertour.fr/map\"\n",
    "org_name = \"Maker Tour\"\n",
    "response = requests.get(url)\n",
    "print(response)"
   ]
  },
  {
   "cell_type": "code",
   "execution_count": 5,
   "id": "af0bb589-b1b9-469c-afbe-f6f63a4f719b",
   "metadata": {
    "tags": []
   },
   "outputs": [],
   "source": [
    "html_bytes = response.content\n",
    "html_string = html_bytes.decode('utf-8')\n",
    "\n",
    "soup = BeautifulSoup(html_string, 'html.parser')\n",
    "map_content = soup.find('div', id='map')\n",
    "markers_string = map_content.get('data-markers')\n",
    "\n",
    "markers_json = json.loads(markers_string)"
   ]
  },
  {
   "cell_type": "code",
   "execution_count": 6,
   "id": "0c8c384a-9e95-48ff-aa06-b044ec30f05e",
   "metadata": {
    "tags": []
   },
   "outputs": [],
   "source": [
    "def extract_info(html_content):\n",
    "    soup = BeautifulSoup(html_content, 'html.parser')\n",
    "    \n",
    "    title = soup.find('h2', class_='workshop-title').text.strip()\n",
    "    location = soup.find('span', class_='city-country').text.strip()\n",
    "    tags = [tag.text.strip() for tag in soup.find_all('span', class_='tag primary')]\n",
    "    href = soup.find('a', class_='card-link')['href'].strip()\n",
    "\n",
    "    return [title] + location.split(\", \") + [tags, \"https://www.makertour.fr\" + href]"
   ]
  },
  {
   "cell_type": "code",
   "execution_count": 6,
   "id": "25f7f7d6-7b3d-41ae-a444-346923068d38",
   "metadata": {
    "tags": []
   },
   "outputs": [],
   "source": [
    "data = []\n",
    "for record in markers_json:\n",
    "    \n",
    "    data.append(extract_info(record['content']) + [record['lat'], record['lng']])\n",
    "\n",
    "columns = ['name', 'city', 'country', 'tags', 'url', 'latitude', 'longitude']"
   ]
  },
  {
   "cell_type": "code",
   "execution_count": 7,
   "id": "3c1d27e1",
   "metadata": {},
   "outputs": [],
   "source": [
    "input_ = pd.DataFrame(data, columns=columns)"
   ]
  },
  {
   "cell_type": "code",
   "execution_count": 8,
   "id": "6dd4704e-a70d-4c39-af3d-e3cc24e21de1",
   "metadata": {},
   "outputs": [],
   "source": [
    "input_.reset_index(drop=True, inplace=True)"
   ]
  },
  {
   "cell_type": "code",
   "execution_count": null,
   "id": "dbfe4fa8-5d54-4f49-a577-a1dcf244b7ff",
   "metadata": {},
   "outputs": [],
   "source": [
    "file_name = \"raw_\" + org_name.replace(\" \", \"_\").lower() + date"
   ]
  },
  {
   "cell_type": "code",
   "execution_count": 9,
   "id": "dbcf4a9f-0089-4203-ad22-c41aa17a96c1",
   "metadata": {},
   "outputs": [],
   "source": [
    "input_.to_csv('../data/' + file_name + '.csv')"
   ]
  },
  {
   "cell_type": "code",
   "execution_count": 10,
   "id": "6fec34fd-473e-49c6-b2fc-2da6e5e41920",
   "metadata": {
    "tags": []
   },
   "outputs": [
    {
     "data": {
      "text/plain": [
       "['name', 'city', 'country', 'tags', 'url', 'latitude', 'longitude']"
      ]
     },
     "execution_count": 10,
     "metadata": {},
     "output_type": "execute_result"
    }
   ],
   "source": [
    "input_.columns.tolist()"
   ]
  },
  {
   "cell_type": "code",
   "execution_count": 11,
   "id": "7817409b-bed4-480a-b4a6-5014891a6005",
   "metadata": {
    "tags": []
   },
   "outputs": [
    {
     "name": "stdout",
     "output_type": "stream",
     "text": [
      "OKW entries: 151, columns = 7\n"
     ]
    }
   ],
   "source": [
    "print(\"OKW entries: {r[0]}, columns = {r[1]}\".format(r=input_.shape))"
   ]
  },
  {
   "cell_type": "code",
   "execution_count": 12,
   "id": "27aba97d-298d-40a6-8153-e42653a55412",
   "metadata": {},
   "outputs": [],
   "source": [
    "#notes: notebooks will change to only collect raw data, and generate DB metadata on preparation for data aggregation process. Cleaning and sorting will be arreanged on following notebooks fro data validation and cleansing."
   ]
  },
  {
   "cell_type": "code",
   "execution_count": 13,
   "id": "d316d554-dd46-4bfb-8f24-eefccfa7e658",
   "metadata": {
    "tags": []
   },
   "outputs": [],
   "source": [
    "\"\"\"\n",
    "meta.json\n",
    "Entries, column_names, creation_date\n",
    "\"\"\""
   ]
  },
  {
   "cell_type": "code",
   "execution_count": null,
   "id": "62996632-c8e2-4fc2-b0a9-d42d5c3782e2",
   "metadata": {},
   "outputs": [],
   "source": [
    "metadata = {\n",
    "    \"source\": org_name,\n",
    "    \"url\": url,\n",
    "    \"csv\": file_name,\n",
    "    \"records\": input_.shape[0],\n",
    "    \"columns\": input_.shape[1],\n",
    "    \"attributes\": input_.columns.tolist(),\n",
    "    \"updated\": date\n",
    "}\n",
    " \n",
    "# Serializing json\n",
    "metadata_json = json.dumps(metadata, indent=4)\n",
    " \n",
    "# Writing to sample.json\n",
    "with open(\"../data/\" + file_name + \".json\", \"w\") as outfile:\n",
    "    outfile.write(metadata_json)"
   ]
  }
 ],
 "metadata": {
  "kernelspec": {
   "display_name": "webapp_okw",
   "language": "python",
   "name": "webapp_okw"
  },
  "language_info": {
   "codemirror_mode": {
    "name": "ipython",
    "version": 3
   },
   "file_extension": ".py",
   "mimetype": "text/x-python",
   "name": "python",
   "nbconvert_exporter": "python",
   "pygments_lexer": "ipython3",
   "version": "3.10.13"
  }
 },
 "nbformat": 4,
 "nbformat_minor": 5
}
