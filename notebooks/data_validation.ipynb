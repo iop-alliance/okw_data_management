{
 "cells": [
  {
   "cell_type": "markdown",
   "id": "78bdd878",
   "metadata": {},
   "source": [
    "<img src=\"https://pbs.twimg.com/profile_images/1092394418135539713/eplLRcDN_400x400.jpg\" width=80px style=\"text-align:right\"><h1>The Internet of Production Alliance </h1>\n",
    "\n",
    "## Data collection program for the [OKW, Map of facilities](https://www.internetofproduction.org/open-know-where)\n"
   ]
  },
  {
   "cell_type": "markdown",
   "id": "f7aabf35",
   "metadata": {},
   "source": [
    "Author: Antonio de Jesus Anaya Hernandez, DevOps eng. for the IoPA.\n",
    "\n",
    "Author: The internet of Production Alliance, 2024.\n",
    "\n",
    "Data was collected by: \n",
    "\n",
    "1. \"The Fab Foundation, FabLab Network and its partners\", URL location: https://api.fablabs.io/0/labs.json\n",
    "2. \"Make Works, FabLab Barcelona and its partners\", URL location: https://make.works/companies\n",
    "3. \"Offene Werkstaetten, and its partners\", URL location: https://www.offene-werkstaetten.org/de/werkstatt-suche\n",
    "4. \"Field Ready Inc. and its partners\", URL location: sftp://acc1079413848@access804698569.webspace-data.io/raw_fieldready_input_2022.csv\n",
    "\n",
    "The Open Know Where (OKW) Initiative is part of the Internet of Production Alliance and its members.\n",
    "\n",
    "License: CC BY SA\n",
    "\n",
    "![CC BY SA](https://mirrors.creativecommons.org/presskit/buttons/88x31/svg/by-sa.svg)\n",
    "\n",
    "Description: Python code for validating data, cleaning, formating and classification.\n",
    "\n",
    "Rev 0, 01/23/2024"
   ]
  },
  {
   "cell_type": "code",
   "execution_count": 1,
   "id": "76034e9d-0d6b-4965-95ea-7adf72ac6b97",
   "metadata": {},
   "outputs": [],
   "source": [
    "# This line installs the required libraries for running the script, uncomment the line:\n",
    "# !pip install -r requirements.txt"
   ]
  },
  {
   "cell_type": "code",
   "execution_count": 2,
   "id": "cc1ffe8c",
   "metadata": {},
   "outputs": [],
   "source": [
    "import requests\n",
    "import pandas as pd"
   ]
  },
  {
   "cell_type": "code",
   "execution_count": 3,
   "id": "a88800cd-7371-4215-9328-2d9ce573a514",
   "metadata": {
    "tags": []
   },
   "outputs": [],
   "source": [
    "from datetime import datetime\n",
    "now = datetime.now()"
   ]
  },
  {
   "cell_type": "markdown",
   "id": "14a1b580-7522-4bef-b09a-da1d85a82748",
   "metadata": {},
   "source": [
    "(WIP)"
   ]
  },
  {
   "cell_type": "code",
   "execution_count": null,
   "id": "a491ca61-97ac-4fb0-9549-72e1e8dfc8d3",
   "metadata": {
    "tags": []
   },
   "outputs": [],
   "source": [
    "#Proposed structure for db metadata file \n",
    "{\n",
    "  \"source\": \"Your_Organization_Name\",\n",
    "  \"url\": \"https://example.com/dataset\",\n",
    "  \"csv\": \"your_data.csv\",\n",
    "  \"records\": ##,\n",
    "  \"columns\": \"\"\n",
    "  \"attributes\": [\n",
    "    {\"name\": \"name\", \"type\": \"string\"},\n",
    "    {\"name\": \"city\", \"type\": \"string\"},\n",
    "    {\"name\": \"country\", \"type\": \"string\"},\n",
    "    {\"name\": \"tags\", \"type\": \"list of strings\"},\n",
    "    {\"name\": \"url\", \"type\": \"string\"},\n",
    "    {\"name\": \"latitude\", \"type\": \"float\"},\n",
    "    {\"name\": \"longitude\", \"type\": \"float\"}\n",
    "  ],\n",
    "  \"updated\": \"2024-02-12\",\n",
    "  \"data_types\": {\"name\": \"string\", \"city\": \"string\", \"country\": \"string\", \"tags\": \"list of strings\", \"url\": \"string\", \"latitude\": \"float\", \"longitude\": \"float\"},\n",
    "  \"schema_info\": {\n",
    "    \"primary_key\": [\"name\"],\n",
    "    \"foreign_keys\": [],\n",
    "    \"relationships\": []\n",
    "  },\n",
    "  \"aggregation_requirements\": {\n",
    "    \"pre_processing_steps\": [\"Remove duplicates\", \"Handle missing values\"]\n",
    "  },\n",
    "  \"validation_rules\": {\n",
    "    \"name\": {\"required\": true, \"max_length\": 255},\n",
    "    \"city\": {\"required\": true, \"max_length\": 255},\n",
    "    \"country\": {\"required\": true, \"max_length\": 255},\n",
    "    \"tags\": {\"required\": false},\n",
    "    \"url\": {\"required\": false, \"format\": \"url\"},\n",
    "    \"latitude\": {\"required\": true, \"min\": -90, \"max\": 90},\n",
    "    \"longitude\": {\"required\": true, \"min\": -180, \"max\": 180}\n",
    "  },\n",
    "  \"historical_data\": {\n",
    "    \"versioning_strategy\": \"Timestamp-based\",\n",
    "    \"change_handling\": \"Keep historical records\"\n",
    "  },\n",
    "  \"security\": {\n",
    "    \"access_control\": \"Role-based access control (RBAC)\",\n",
    "    \"sensitive_information\": [\"url\"],\n",
    "    \"external_dependencies\": []\n",
    "  },\n",
    "  \"use_cases\": [\"Location-based analytics\", \"Data visualization\"],\n",
    "  \"additional_notes\": \"This dataset contains geographic information for various locations. Ensure compliance with privacy regulations.\"\n",
    "}\n"
   ]
  },
  {
   "cell_type": "code",
   "execution_count": null,
   "id": "264df85c-d4d9-480c-bafe-dda895c5e912",
   "metadata": {},
   "outputs": [],
   "source": []
  },
  {
   "cell_type": "code",
   "execution_count": null,
   "id": "654df3f6-8fba-4d69-bab7-526154c7b2b8",
   "metadata": {},
   "outputs": [],
   "source": []
  }
 ],
 "metadata": {
  "kernelspec": {
   "display_name": "Python 3 (ipykernel)",
   "language": "python",
   "name": "python3"
  },
  "language_info": {
   "codemirror_mode": {
    "name": "ipython",
    "version": 3
   },
   "file_extension": ".py",
   "mimetype": "text/x-python",
   "name": "python",
   "nbconvert_exporter": "python",
   "pygments_lexer": "ipython3",
   "version": "3.10.13"
  }
 },
 "nbformat": 4,
 "nbformat_minor": 5
}
