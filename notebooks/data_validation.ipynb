{
 "cells": [
  {
   "cell_type": "markdown",
   "id": "78bdd878",
   "metadata": {},
   "source": [
    "<img src=\"https://pbs.twimg.com/profile_images/1092394418135539713/eplLRcDN_400x400.jpg\" width=80px style=\"text-align:right\"><h1>The Internet of Production Alliance </h1>\n",
    "\n",
    "## Data collection program for the [OKW, Map of facilities](https://www.internetofproduction.org/open-know-where)\n"
   ]
  },
  {
   "cell_type": "markdown",
   "id": "f7aabf35",
   "metadata": {},
   "source": [
    "Author: Antonio de Jesus Anaya Hernandez, DevOps eng. for the IoPA.\n",
    "\n",
    "Author: The internet of Production Alliance, 2024.\n",
    "\n",
    "Data was collected by: \n",
    "\n",
    "1. \"The Fab Foundation, FabLab Network and its partners\", URL location: https://api.fablabs.io/0/labs.json\n",
    "2. \"Make Works, FabLab Barcelona and its partners\", URL location: https://make.works/companies\n",
    "3. \"Offene Werkstaetten, and its partners\", URL location: https://www.offene-werkstaetten.org/de/werkstatt-suche\n",
    "4. \"Field Ready Inc. and its partners\", URL location: sftp://acc1079413848@access804698569.webspace-data.io/raw_fieldready_input_2022.csv\n",
    "\n",
    "The Open Know Where (OKW) Initiative is part of the Internet of Production Alliance and its members.\n",
    "\n",
    "License: CC BY SA\n",
    "\n",
    "![CC BY SA](https://mirrors.creativecommons.org/presskit/buttons/88x31/svg/by-sa.svg)\n",
    "\n",
    "Description: Python code for validating data, cleaning, formating and classification.\n",
    "\n",
    "Rev 0, 01/23/2024"
   ]
  },
  {
   "cell_type": "code",
   "execution_count": 1,
   "id": "76034e9d-0d6b-4965-95ea-7adf72ac6b97",
   "metadata": {},
   "outputs": [],
   "source": [
    "# This line installs the required libraries for running the script, uncomment the line:\n",
    "# !pip install -r requirements.txt"
   ]
  },
  {
   "cell_type": "code",
   "execution_count": 2,
   "id": "cc1ffe8c",
   "metadata": {},
   "outputs": [],
   "source": [
    "import requests\n",
    "import pandas as pd"
   ]
  },
  {
   "cell_type": "code",
   "execution_count": 3,
   "id": "a88800cd-7371-4215-9328-2d9ce573a514",
   "metadata": {
    "tags": []
   },
   "outputs": [],
   "source": [
    "from datetime import datetime\n",
    "now = datetime.now()"
   ]
  },
  {
   "cell_type": "code",
   "execution_count": null,
   "id": "27aba97d-298d-40a6-8153-e42653a55412",
   "metadata": {},
   "outputs": [],
   "source": [
    "... "
   ]
  }
 ],
 "metadata": {
  "kernelspec": {
   "display_name": "Python 3 (ipykernel)",
   "language": "python",
   "name": "python3"
  },
  "language_info": {
   "codemirror_mode": {
    "name": "ipython",
    "version": 3
   },
   "file_extension": ".py",
   "mimetype": "text/x-python",
   "name": "python",
   "nbconvert_exporter": "python",
   "pygments_lexer": "ipython3",
   "version": "3.10.9"
  }
 },
 "nbformat": 4,
 "nbformat_minor": 5
}
