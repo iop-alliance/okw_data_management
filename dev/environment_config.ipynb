{
 "cells": [
  {
   "cell_type": "code",
   "execution_count": 1,
   "id": "39a1b14b-bd9d-4411-a1d2-10a903d333cf",
   "metadata": {},
   "outputs": [
    {
     "name": "stdout",
     "output_type": "stream",
     "text": [
      "Warning: 'intel' already in 'channels' list, moving to the top\n"
     ]
    }
   ],
   "source": [
    "#!conda  config --add channels intel"
   ]
  },
  {
   "cell_type": "code",
   "execution_count": null,
   "id": "636dd455-0098-4d16-bb89-c36532a8baa1",
   "metadata": {},
   "outputs": [],
   "source": [
    "#!conda  create --name okw_data_intel --channel intel --override-channels intelpython3_core"
   ]
  },
  {
   "cell_type": "code",
   "execution_count": 2,
   "id": "14166262-c9f8-4ff0-81fa-5a2c7460f01e",
   "metadata": {},
   "outputs": [],
   "source": [
    "#!conda activate okw_data_intel"
   ]
  },
  {
   "cell_type": "code",
   "execution_count": 3,
   "id": "d6533684-6b57-4d93-808d-2c5fd2da58f8",
   "metadata": {},
   "outputs": [],
   "source": [
    "#!conda install -c anaconda ipykernel"
   ]
  },
  {
   "cell_type": "code",
   "execution_count": 4,
   "id": "554bd970-3836-4e7c-b9bd-90a67cf09903",
   "metadata": {},
   "outputs": [],
   "source": [
    "#!python -m ipykernel install --user --name=okw_data_intel"
   ]
  },
  {
   "cell_type": "code",
   "execution_count": 5,
   "id": "abb0958d-7110-4eed-9d57-5659719db815",
   "metadata": {},
   "outputs": [],
   "source": [
    "#!conda install -r ../requirements.txt"
   ]
  },
  {
   "cell_type": "code",
   "execution_count": null,
   "id": "fe7b7d5f-2305-4210-b194-380fa873bf41",
   "metadata": {},
   "outputs": [],
   "source": []
  }
 ],
 "metadata": {
  "kernelspec": {
   "display_name": "okw_data_intel",
   "language": "python",
   "name": "okw_data_intel"
  },
  "language_info": {
   "codemirror_mode": {
    "name": "ipython",
    "version": 3
   },
   "file_extension": ".py",
   "mimetype": "text/x-python",
   "name": "python",
   "nbconvert_exporter": "python",
   "pygments_lexer": "ipython3",
   "version": "3.10.13"
  }
 },
 "nbformat": 4,
 "nbformat_minor": 5
}
